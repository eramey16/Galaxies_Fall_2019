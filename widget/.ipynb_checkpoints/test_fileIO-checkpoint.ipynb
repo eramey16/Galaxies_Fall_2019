{
 "cells": [
  {
   "cell_type": "code",
   "execution_count": 1,
   "metadata": {},
   "outputs": [],
   "source": [
    "import numpy as np"
   ]
  },
  {
   "cell_type": "code",
   "execution_count": 8,
   "metadata": {},
   "outputs": [
    {
     "data": {
      "text/plain": [
       "['\\n',\n",
       " '===============================================================================\\n',\n",
       " '# IMAGE and GALFIT CONTROL PARAMETERS\\n',\n",
       " 'A) gal.fits            # Input data image (FITS file)\\n',\n",
       " 'B) imgblock.fits       # Output data image block\\n',\n",
       " 'C) none                # Sigma image name (made from data if blank or \"none\") \\n',\n",
       " 'D) psf.fits   #        # Input PSF image and (optional) diffusion kernel\\n',\n",
       " 'E) 1                   # PSF fine sampling factor relative to data \\n',\n",
       " 'F) none                # Bad pixel mask (FITS image or ASCII coord list)\\n',\n",
       " 'G) none                # File with parameter constraints (ASCII file) \\n',\n",
       " 'H) 1    93   1    93   # Image region to fit (xmin xmax ymin ymax)\\n',\n",
       " 'I) 100    100          # Size of the convolution box (x y)\\n',\n",
       " 'J) 26.563              # Magnitude photometric zeropoint \\n',\n",
       " 'K) 0.038  0.038        # Plate scale (dx dy)    [arcsec per pixel]\\n',\n",
       " 'O) regular             # Display type (regular, curses, both)\\n',\n",
       " 'P) 0                   # Choose: 0=optimize, 1=model, 2=imgblock, 3=subcomps\\n',\n",
       " '\\n',\n",
       " '# INITIAL FITTING PARAMETERS\\n',\n",
       " '#\\n',\n",
       " '#   For object type, the allowed functions are: \\n',\n",
       " '#       nuker, sersic, expdisk, devauc, king, psf, gaussian, moffat, \\n',\n",
       " '#       ferrer, powsersic, sky, and isophote. \\n',\n",
       " '#  \\n',\n",
       " \"#   Hidden parameters will only appear when they're specified:\\n\",\n",
       " '#       C0 (diskyness/boxyness), \\n',\n",
       " '#       Fn (n=integer, Azimuthal Fourier Modes),\\n',\n",
       " '#       R0-R10 (PA rotation, for creating spiral structures).\\n',\n",
       " '# \\n',\n",
       " '# -----------------------------------------------------------------------------\\n',\n",
       " '#   par)    par value(s)    fit toggle(s)    # parameter description \\n',\n",
       " '# -----------------------------------------------------------------------------\\n',\n",
       " '\\n',\n",
       " '# Object number: 1\\n',\n",
       " ' 0) sersic                 #  object type\\n',\n",
       " ' 1) 48.5180  51.2800  1 1  #  position x, y\\n',\n",
       " ' 3) 20.0890     1          #  Integrated magnitude\\t\\n',\n",
       " ' 4) 5.1160      1          #  R_e (half-light radius)   [pix]\\n',\n",
       " ' 5) 4.2490      1          #  Sersic index n (de Vaucouleurs n=4) \\n',\n",
       " ' 6) 0.0000      0          #     ----- \\n',\n",
       " ' 7) 0.0000      0          #     ----- \\n',\n",
       " ' 8) 0.0000      0          #     ----- \\n',\n",
       " ' 9) 0.7570      1          #  axis ratio (b/a)  \\n',\n",
       " '10) -60.3690    1          #  position angle (PA) [deg: Up=0, Left=90]\\n',\n",
       " \" Z) 0                      #  output option (0 = resid., 1 = Don't subtract) \\n\",\n",
       " '\\n',\n",
       " '# Object number: 2\\n',\n",
       " ' 0) sky                    #  object type\\n',\n",
       " ' 1) 1.3920      1          #  sky background at center of fitting region [ADUs]\\n',\n",
       " ' 2) 0.0000      0          #  dsky/dx (sky gradient in x)\\n',\n",
       " ' 3) 0.0000      0          #  dsky/dy (sky gradient in y)\\n',\n",
       " \" Z) 0                      #  output option (0 = resid., 1 = Don't subtract) \\n\",\n",
       " '\\n',\n",
       " '================================================================================\\n',\n",
       " '\\n']"
      ]
     },
     "execution_count": 8,
     "metadata": {},
     "output_type": "execute_result"
    }
   ],
   "source": [
    "path = \"galfit-example/EXAMPLE/galfit_test.feedme\"\n",
    "with open(path) as f:\n",
    "    iofile = f.readlines()\n",
    "iofile"
   ]
  },
  {
   "cell_type": "code",
   "execution_count": 19,
   "metadata": {},
   "outputs": [
    {
     "data": {
      "text/plain": [
       "[array(['# Object number: 1\\n',\n",
       "        ' 0) sersic                 #  object type\\n',\n",
       "        ' 1) 48.5180  51.2800  1 1  #  position x, y\\n',\n",
       "        ' 3) 20.0890     1          #  Integrated magnitude\\t\\n',\n",
       "        ' 4) 5.1160      1          #  R_e (half-light radius)   [pix]\\n',\n",
       "        ' 5) 4.2490      1          #  Sersic index n (de Vaucouleurs n=4) \\n',\n",
       "        ' 6) 0.0000      0          #     ----- \\n',\n",
       "        ' 7) 0.0000      0          #     ----- \\n',\n",
       "        ' 8) 0.0000      0          #     ----- \\n',\n",
       "        ' 9) 0.7570      1          #  axis ratio (b/a)  \\n',\n",
       "        '10) -60.3690    1          #  position angle (PA) [deg: Up=0, Left=90]\\n',\n",
       "        \" Z) 0                      #  output option (0 = resid., 1 = Don't subtract) \\n\",\n",
       "        '\\n'], dtype='<U81'), array(['# Object number: 2\\n',\n",
       "        ' 0) sky                    #  object type\\n',\n",
       "        ' 1) 1.3920      1          #  sky background at center of fitting region [ADUs]\\n',\n",
       "        ' 2) 0.0000      0          #  dsky/dx (sky gradient in x)\\n',\n",
       "        ' 3) 0.0000      0          #  dsky/dy (sky gradient in y)\\n',\n",
       "        \" Z) 0                      #  output option (0 = resid., 1 = Don't subtract) \\n\",\n",
       "        '\\n',\n",
       "        '================================================================================\\n'],\n",
       "       dtype='<U81')]"
      ]
     },
     "execution_count": 19,
     "metadata": {},
     "output_type": "execute_result"
    }
   ],
   "source": [
    "objects = []\n",
    "iofile = np.array(iofile)\n",
    "n = len(iofile)\n",
    "objIdxs = [i for i,s in enumerate(iofile) if 'Object number' in s]\n",
    "nn = len(objIdxs)\n",
    "for i in range(nn): # loop thru objects\n",
    "    ii = objIdxs[i] # actual index of object line\n",
    "    \n",
    "    if i == nn-1: # last object\n",
    "        nextii = n-1\n",
    "    else:\n",
    "        nextii = objIdxs[i+1]\n",
    "        \n",
    "    objects.append(iofile[ii:nextii])\n",
    "objects"
   ]
  },
  {
   "cell_type": "code",
   "execution_count": 23,
   "metadata": {},
   "outputs": [],
   "source": [
    "a = ['this\\n', 'is ', 'a\\n', \"separate\\n\", 'test']\n",
    "with open(\"testfile.txt\", 'w') as f:\n",
    "    f.writelines(a)"
   ]
  },
  {
   "cell_type": "code",
   "execution_count": null,
   "metadata": {},
   "outputs": [],
   "source": []
  }
 ],
 "metadata": {
  "kernelspec": {
   "display_name": "Python 3",
   "language": "python",
   "name": "python3"
  },
  "language_info": {
   "codemirror_mode": {
    "name": "ipython",
    "version": 3
   },
   "file_extension": ".py",
   "mimetype": "text/x-python",
   "name": "python",
   "nbconvert_exporter": "python",
   "pygments_lexer": "ipython3",
   "version": "3.7.4"
  }
 },
 "nbformat": 4,
 "nbformat_minor": 4
}
