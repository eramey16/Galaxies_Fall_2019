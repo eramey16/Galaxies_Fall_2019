{
 "cells": [
  {
   "cell_type": "code",
   "execution_count": 1,
   "metadata": {},
   "outputs": [],
   "source": [
    "from tkinter import filedialog\n",
    "from tkinter import *\n",
    "from PIL import Image, ImageTk\n",
    "import numpy as np\n",
    "import matplotlib.pyplot as plt"
   ]
  },
  {
   "cell_type": "code",
   "execution_count": 6,
   "metadata": {},
   "outputs": [],
   "source": [
    "window = Tk()\n",
    "window.title(\"My Test App\")\n",
    "\n",
    "lbl = Label(window, text=\"Hello\")\n",
    "lbl.grid(column=0, row=0, sticky='w')\n",
    "\n",
    "txt = Entry(window, width=10)\n",
    "txt.grid(column=0, row=1, sticky='w')\n",
    "\n",
    "def clicked(): # Example button to save/edit the text of each parameter\n",
    "    res = \"You entered: \"+txt.get()\n",
    "    if(txt.cget(\"state\")=='disabled'):\n",
    "        txt.configure(state=\"normal\")\n",
    "        btn.configure(text=\"Submit\")\n",
    "    else:\n",
    "        lbl.configure(text=res)\n",
    "        btn.configure(text=\"Edit\")\n",
    "        txt.configure(state='disabled')\n",
    "    \n",
    "btn = Button(window, text=\"Submit\", fg=\"red\", bg=\"blue\", command=clicked)\n",
    "btn.grid(column=0, row=2, sticky='w')\n",
    "\n",
    "x = np.arange(0, 50)\n",
    "y = np.arange(0, 50)\n",
    "\n",
    "xx, yy = np.meshgrid(x, y)\n",
    "r = [] # needed to pass by reference\n",
    "r.append(5)\n",
    "z = (xx-25)**2 + (yy-25)**2 < r[0]**2\n",
    "tmp = \"tempimgfile.png\"\n",
    "\n",
    "plt.imsave(tmp, z)\n",
    "\n",
    "load = Image.open(tmp)\n",
    "render = ImageTk.PhotoImage(load)\n",
    "img = Label(window, image=render)\n",
    "img.image = render\n",
    "img.grid(column=0, row=4)\n",
    "\n",
    "inc = 2\n",
    "\n",
    "def click2(arr):\n",
    "    r[0] = r[0]+inc # works\n",
    "    z = (xx-25)**2 + (yy-25)**2 < r[0]**2\n",
    "    plt.imsave(tmp, z) # can be used to update the image on the screen\n",
    "    load = Image.open(tmp) # based on user-input values\n",
    "    render = ImageTk.PhotoImage(load)\n",
    "    img = Label(window, image=render)\n",
    "    img.image = render\n",
    "    img.grid(column=0, row=4)\n",
    "\n",
    "btn2 = Button(window, text=\"increase radius\", command= lambda: click2(r))\n",
    "btn2.grid(column=0, row=5)\n",
    "\n",
    "def fsave():\n",
    "    filename = filedialog.asksaveasfilename(title=\"Select file\")\n",
    "    print(filename)\n",
    "\n",
    "btn3 = Button(window, text=\"save file\", command=fsave) # for saving the param file and image\n",
    "btn3.grid(column=0, row=6)"
   ]
  },
  {
   "cell_type": "code",
   "execution_count": 7,
   "metadata": {},
   "outputs": [
    {
     "name": "stdout",
     "output_type": "stream",
     "text": [
      "/Users/emily_ramey/Documents/Berkeley/Galaxies_Fall_2019/widget/test.txt\n"
     ]
    }
   ],
   "source": [
    "window.geometry('350x200')\n",
    "window.mainloop()"
   ]
  },
  {
   "cell_type": "code",
   "execution_count": 5,
   "metadata": {},
   "outputs": [
    {
     "data": {
      "text/plain": [
       "<matplotlib.image.AxesImage at 0x1155c8150>"
      ]
     },
     "execution_count": 5,
     "metadata": {},
     "output_type": "execute_result"
    },
    {
     "data": {
      "image/png": "[encoded data removed]",
      "text/plain": [
       "<Figure size 432x288 with 1 Axes>"
      ]
     },
     "metadata": {
      "needs_background": "light"
     },
     "output_type": "display_data"
    }
   ],
   "source": [
    "x = np.arange(0, 50)\n",
    "y = np.arange(0, 50)\n",
    "\n",
    "xx, yy = np.meshgrid(x, y)\n",
    "z = (xx-25)**2 + (yy-25)**2 < 10\n",
    "f = plt.figure()\n",
    "ax = f.add_subplot()\n",
    "ax.imshow(z)"
   ]
  },
  {
   "cell_type": "code",
   "execution_count": 15,
   "metadata": {},
   "outputs": [
    {
     "name": "stdout",
     "output_type": "stream",
     "text": [
      "10\n",
      "15\n",
      "20\n",
      "25\n",
      "30\n",
      "35\n",
      "40\n",
      "45\n",
      "50\n",
      "55\n"
     ]
    }
   ],
   "source": [
    "arr = []\n",
    "arr.append(10)\n",
    "def increaseB(arr):\n",
    "    arr[0] = arr[0]+5\n",
    "\n",
    "for i in range(10):\n",
    "    print(arr[0])\n",
    "    increaseB(arr)"
   ]
  },
  {
   "cell_type": "code",
   "execution_count": null,
   "metadata": {},
   "outputs": [],
   "source": []
  }
 ],
 "metadata": {
  "kernelspec": {
   "display_name": "Python 3",
   "language": "python",
   "name": "python3"
  },
  "language_info": {
   "codemirror_mode": {
    "name": "ipython",
    "version": 3
   },
   "file_extension": ".py",
   "mimetype": "text/x-python",
   "name": "python",
   "nbconvert_exporter": "python",
   "pygments_lexer": "ipython3",
   "version": "3.7.4"
  }
 },
 "nbformat": 4,
 "nbformat_minor": 4
}
