{
 "cells": [
  {
   "cell_type": "code",
   "execution_count": 2,
   "metadata": {},
   "outputs": [],
   "source": [
    "import numpy as np\n",
    "import re"
   ]
  },
  {
   "cell_type": "code",
   "execution_count": 10,
   "metadata": {},
   "outputs": [
    {
     "name": "stdout",
     "output_type": "stream",
     "text": [
      "0 \n",
      "\n",
      "1 ===============================================================================\n",
      "\n",
      "2 # IMAGE and GALFIT CONTROL PARAMETERS\n",
      "\n",
      "3 A) gal.fits            # Input data image (FITS file)\n",
      "\n",
      "4 B) imgblock.fits       # Output data image block\n",
      "\n",
      "5 C) none                # Sigma image name (made from data if blank or \"none\") \n",
      "\n",
      "6 D) psf.fits   #        # Input PSF image and (optional) diffusion kernel\n",
      "\n",
      "7 E) 1                   # PSF fine sampling factor relative to data \n",
      "\n",
      "8 F) none                # Bad pixel mask (FITS image or ASCII coord list)\n",
      "\n",
      "9 G) none                # File with parameter constraints (ASCII file) \n",
      "\n",
      "10 H) 1    93   1    93   # Image region to fit (xmin xmax ymin ymax)\n",
      "\n",
      "11 I) 100    100          # Size of the convolution box (x y)\n",
      "\n",
      "12 J) 26.563              # Magnitude photometric zeropoint \n",
      "\n",
      "13 K) 0.038  0.038        # Plate scale (dx dy)    [arcsec per pixel]\n",
      "\n",
      "14 O) regular             # Display type (regular, curses, both)\n",
      "\n",
      "15 P) 0                   # Choose: 0=optimize, 1=model, 2=imgblock, 3=subcomps\n",
      "\n",
      "16 \n",
      "\n",
      "17 # INITIAL FITTING PARAMETERS\n",
      "\n",
      "18 #\n",
      "\n",
      "19 #   For object type, the allowed functions are: \n",
      "\n",
      "20 #       nuker, sersic, expdisk, devauc, king, psf, gaussian, moffat, \n",
      "\n",
      "21 #       ferrer, powsersic, sky, and isophote. \n",
      "\n",
      "22 #  \n",
      "\n",
      "23 #   Hidden parameters will only appear when they're specified:\n",
      "\n",
      "24 #       C0 (diskyness/boxyness), \n",
      "\n",
      "25 #       Fn (n=integer, Azimuthal Fourier Modes),\n",
      "\n",
      "26 #       R0-R10 (PA rotation, for creating spiral structures).\n",
      "\n",
      "27 # \n",
      "\n",
      "28 # -----------------------------------------------------------------------------\n",
      "\n",
      "29 #   par)    par value(s)    fit toggle(s)    # parameter description \n",
      "\n",
      "30 # -----------------------------------------------------------------------------\n",
      "\n",
      "31 \n",
      "\n",
      "32 # Object number: 1\n",
      "\n",
      "33  0) sersic                 #  object type\n",
      "\n",
      "34  1) 48.5180  51.2800  1 1  #  position x, y\n",
      "\n",
      "35  3) 20.0890     1          #  Integrated magnitude\t\n",
      "\n",
      "36  4) 5.1160      1          #  R_e (half-light radius)   [pix]\n",
      "\n",
      "37  5) 4.2490      1          #  Sersic index n (de Vaucouleurs n=4) \n",
      "\n",
      "38  6) 0.0000      0          #     ----- \n",
      "\n",
      "39  7) 0.0000      0          #     ----- \n",
      "\n",
      "40  8) 0.0000      0          #     ----- \n",
      "\n",
      "41  9) 0.7570      1          #  axis ratio (b/a)  \n",
      "\n",
      "42 10) -60.3690    1          #  position angle (PA) [deg: Up=0, Left=90]\n",
      "\n",
      "43  Z) 0                      #  output option (0 = resid., 1 = Don't subtract) \n",
      "\n",
      "44 \n",
      "\n",
      "45 # Object number: 2\n",
      "\n",
      "46  0) sky                    #  object type\n",
      "\n",
      "47  1) 1.3920      1          #  sky background at center of fitting region [ADUs]\n",
      "\n",
      "48  2) 0.0000      0          #  dsky/dx (sky gradient in x)\n",
      "\n",
      "49  3) 0.0000      0          #  dsky/dy (sky gradient in y)\n",
      "\n",
      "50  Z) 0                      #  output option (0 = resid., 1 = Don't subtract) \n",
      "\n",
      "51 \n",
      "\n",
      "52 ================================================================================\n",
      "\n",
      "53 \n",
      "\n"
     ]
    }
   ],
   "source": [
    "path = \".galfit/galfit-example/EXAMPLE/galfit_test.feedme\"\n",
    "with open(path) as f:\n",
    "    iofile = f.readlines()\n",
    "count = 0\n",
    "for line in iofile:\n",
    "    print(count, line)\n",
    "    count+=1"
   ]
  },
  {
   "cell_type": "code",
   "execution_count": 25,
   "metadata": {},
   "outputs": [],
   "source": [
    "def genLine(num, numVals=2, select=1):\n",
    "    numstring = str(num)+\"\\) \"\n",
    "    for i in range(1,numVals+1):\n",
    "        if i==select or i==select+1:\n",
    "            numstring+=\"(\\S+)\\s+\"\n",
    "        else:\n",
    "            numstring+=\"\\S+\\s+\"\n",
    "    return numstring+\"(#)\""
   ]
  },
  {
   "cell_type": "code",
   "execution_count": 29,
   "metadata": {},
   "outputs": [
    {
     "name": "stdout",
     "output_type": "stream",
     "text": [
      " 1) 48.5180  51.2800  1 1  #  position x, y\n",
      "\n",
      "1\\) \\S+\\s+(\\S+)\\s+(\\S+)\\s+\\S+\\s+(#)\n",
      "Match: 51.2800\n"
     ]
    }
   ],
   "source": [
    "testRE1 = genLine(1, 4, 2)\n",
    "#testRE1 = \" 1\\) (\\S+)\\s+(\\S+)\\s+\"\n",
    "testline = iofile[34]\n",
    "print(testline)\n",
    "print(testRE1)\n",
    "match = re.search(testRE1, testline)\n",
    "if match:\n",
    "    print(\"Match:\", match.group(1))\n",
    "#print(testRE1)"
   ]
  },
  {
   "cell_type": "code",
   "execution_count": 6,
   "metadata": {},
   "outputs": [
    {
     "data": {
      "text/plain": [
       "'# Object number: '"
      ]
     },
     "execution_count": 6,
     "metadata": {},
     "output_type": "execute_result"
    }
   ],
   "source": [
    "objects[0][0][:-2]"
   ]
  },
  {
   "cell_type": "code",
   "execution_count": 7,
   "metadata": {},
   "outputs": [
    {
     "data": {
      "text/plain": [
       "[1, 2, 3, 4, 5, 6]"
      ]
     },
     "execution_count": 7,
     "metadata": {},
     "output_type": "execute_result"
    }
   ],
   "source": [
    "list1 = [1, 2, 3]\n",
    "list2 = [4, 5, 6]\n",
    "list1+list2"
   ]
  },
  {
   "cell_type": "code",
   "execution_count": 1,
   "metadata": {},
   "outputs": [],
   "source": [
    "from galfitObject import galfitObject"
   ]
  },
  {
   "cell_type": "code",
   "execution_count": null,
   "metadata": {},
   "outputs": [],
   "source": []
  },
  {
   "cell_type": "code",
   "execution_count": 4,
   "metadata": {},
   "outputs": [
    {
     "data": {
      "text/plain": [
       "[array(['# Object number: 1\\n',\n",
       "        ' 0) sersic                 #  object type\\n',\n",
       "        ' 1) 48.5180  51.2800  1 1  #  position x, y\\n',\n",
       "        ' 3) 20.0890     1          #  Integrated magnitude\\t\\n',\n",
       "        ' 4) 5.1160      1          #  R_e (half-light radius)   [pix]\\n',\n",
       "        ' 5) 4.2490      1          #  Sersic index n (de Vaucouleurs n=4) \\n',\n",
       "        ' 6) 0.0000      0          #     ----- \\n',\n",
       "        ' 7) 0.0000      0          #     ----- \\n',\n",
       "        ' 8) 0.0000      0          #     ----- \\n',\n",
       "        ' 9) 0.7570      1          #  axis ratio (b/a)  \\n',\n",
       "        '10) -60.3690    1          #  position angle (PA) [deg: Up=0, Left=90]\\n',\n",
       "        \" Z) 0                      #  output option (0 = resid., 1 = Don't subtract) \\n\",\n",
       "        '\\n'], dtype='<U81'), array(['# Object number: 2\\n',\n",
       "        ' 0) sky                    #  object type\\n',\n",
       "        ' 1) 1.3920      1          #  sky background at center of fitting region [ADUs]\\n',\n",
       "        ' 2) 0.0000      0          #  dsky/dx (sky gradient in x)\\n',\n",
       "        ' 3) 0.0000      0          #  dsky/dy (sky gradient in y)\\n',\n",
       "        \" Z) 0                      #  output option (0 = resid., 1 = Don't subtract) \\n\",\n",
       "        '\\n',\n",
       "        '================================================================================\\n'],\n",
       "       dtype='<U81')]"
      ]
     },
     "execution_count": 4,
     "metadata": {},
     "output_type": "execute_result"
    }
   ],
   "source": [
    "objects = []\n",
    "iofile = np.array(iofile)\n",
    "n = len(iofile)\n",
    "objIdxs = [i for i,s in enumerate(iofile) if 'Object number' in s]\n",
    "nn = len(objIdxs)\n",
    "for i in range(nn): # loop thru objects\n",
    "    ii = objIdxs[i] # actual index of object line\n",
    "    \n",
    "    if i == nn-1: # last object\n",
    "        nextii = n-1\n",
    "    else:\n",
    "        nextii = objIdxs[i+1]\n",
    "        \n",
    "    objects.append(iofile[ii:nextii])\n",
    "objects"
   ]
  }
 ],
 "metadata": {
  "kernelspec": {
   "display_name": "Python 3",
   "language": "python",
   "name": "python3"
  },
  "language_info": {
   "codemirror_mode": {
    "name": "ipython",
    "version": 3
   },
   "file_extension": ".py",
   "mimetype": "text/x-python",
   "name": "python",
   "nbconvert_exporter": "python",
   "pygments_lexer": "ipython3",
   "version": "3.7.4"
  }
 },
 "nbformat": 4,
 "nbformat_minor": 4
}
