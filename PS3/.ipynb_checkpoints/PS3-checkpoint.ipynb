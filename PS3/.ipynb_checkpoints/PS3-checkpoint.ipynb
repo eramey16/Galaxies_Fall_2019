{
 "cells": [
  {
   "cell_type": "code",
   "execution_count": 1,
   "metadata": {},
   "outputs": [],
   "source": [
    "### AY 218 Problem Set 3\n",
    "import fsps\n",
    "import numpy as np\n",
    "import matplotlib.pyplot as plt\n",
    "graphs = \"graphs/\""
   ]
  },
  {
   "cell_type": "code",
   "execution_count": 2,
   "metadata": {},
   "outputs": [],
   "source": [
    "### 1a\n",
    "Zs = [-0.5, 0.0, 0.5]\n",
    "ages = [1, 2, 5, 14]\n",
    "\n",
    "# start with solar metallicity\n",
    "sp = fsps.StellarPopulation(compute_vega_mags=False, imf_type=0, zcontinuous=1, \n",
    "                                sfh=0, logzsol=Zs[1], dust_type=2, dust2=0)"
   ]
  },
  {
   "cell_type": "code",
   "execution_count": null,
   "metadata": {},
   "outputs": [],
   "source": [
    "### 1a plot 1\n",
    "\n",
    "# plot same sp at different ages\n",
    "for age in ages:\n",
    "    wave, spec = sp.get_spectrum(tage=age)\n",
    "    plt.plot(wave, spec, label=\"%d Gyr\" % age)\n",
    "\n",
    "# formatting\n",
    "plt.yscale(\"log\")\n",
    "plt.xlim(1000, 8000)\n",
    "plt.ylim(1e-20, 2e-14)\n",
    "plt.xlabel(\"$\\lambda\\;(\\AA)$\")\n",
    "plt.ylabel(\"Luminosity ($L_\\odot$/Hz)\")\n",
    "plt.legend()\n",
    "#plt.savefig(graphs+\"solar_metallicity_spectra.png\")\n",
    "plt.show()"
   ]
  },
  {
   "cell_type": "code",
   "execution_count": null,
   "metadata": {},
   "outputs": [],
   "source": [
    "# 1a plot 2\n",
    "%matplotlib notebook\n",
    "age = 5    # Gyr\n",
    "for Z in Zs:\n",
    "    sp.params['logzsol'] = Z\n",
    "    wave, spec = sp.get_spectrum(tage=age)\n",
    "    plt.plot(wave, spec, label=\"z = %1.1f\" % Z)\n",
    "\n",
    "plt.yscale(\"log\")\n",
    "plt.xlim(1000, 10000)\n",
    "plt.ylim(1e-20, 1e-15)\n",
    "plt.legend()"
   ]
  },
  {
   "cell_type": "code",
   "execution_count": null,
   "metadata": {},
   "outputs": [],
   "source": [
    "mgb = [5160.125, 5192.625]\n",
    "rcont = [5191.375, 5206.375]\n",
    "bcont = [5142.625, 5161.375]\n",
    "r_idxs = np.where(wave > rcont[0]) * np.where(wave < rcont[1])"
   ]
  },
  {
   "cell_type": "code",
   "execution_count": null,
   "metadata": {},
   "outputs": [],
   "source": []
  }
 ],
 "metadata": {
  "kernelspec": {
   "display_name": "Python 3",
   "language": "python",
   "name": "python3"
  },
  "language_info": {
   "codemirror_mode": {
    "name": "ipython",
    "version": 3
   },
   "file_extension": ".py",
   "mimetype": "text/x-python",
   "name": "python",
   "nbconvert_exporter": "python",
   "pygments_lexer": "ipython3",
   "version": "3.7.3"
  }
 },
 "nbformat": 4,
 "nbformat_minor": 4
}
